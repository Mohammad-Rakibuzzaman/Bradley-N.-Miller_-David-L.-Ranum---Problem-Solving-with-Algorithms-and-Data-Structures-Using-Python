{
 "cells": [
  {
   "cell_type": "markdown",
   "metadata": {},
   "source": [
    "## Control Structure"
   ]
  },
  {
   "cell_type": "markdown",
   "metadata": {},
   "source": [
    "## While"
   ]
  },
  {
   "cell_type": "code",
   "execution_count": 1,
   "metadata": {},
   "outputs": [
    {
     "name": "stdout",
     "output_type": "stream",
     "text": [
      "Hello, world\n",
      "Hello, world\n",
      "Hello, world\n",
      "Hello, world\n",
      "Hello, world\n"
     ]
    }
   ],
   "source": [
    "counter = 1\n",
    "while counter <= 5:\n",
    "    print(\"Hello, world\")\n",
    "    counter = counter + 1\n"
   ]
  },
  {
   "cell_type": "markdown",
   "metadata": {},
   "source": [
    "### done = False\n",
    "### while counter <= 10 and not done:"
   ]
  },
  {
   "cell_type": "code",
   "execution_count": 1,
   "metadata": {},
   "outputs": [
    {
     "name": "stdout",
     "output_type": "stream",
     "text": [
      "1\n",
      "3\n",
      "6\n",
      "2\n",
      "5\n"
     ]
    }
   ],
   "source": [
    "\n",
    "for item in [1,3,6,2,5]:\n",
    "    print(item)\n"
   ]
  },
  {
   "cell_type": "code",
   "execution_count": 5,
   "metadata": {},
   "outputs": [
    {
     "name": "stdout",
     "output_type": "stream",
     "text": [
      "1\n",
      "4\n",
      "9\n",
      "16\n"
     ]
    }
   ],
   "source": [
    "item = 1\n",
    "for item in range(item, 5):\n",
    "    print(item ** 2)"
   ]
  },
  {
   "cell_type": "code",
   "execution_count": 6,
   "metadata": {},
   "outputs": [
    {
     "name": "stdout",
     "output_type": "stream",
     "text": [
      "['a', 'p', 'p', 'l', 'e', 'o', 'r', 'a', 'n', 'g', 'e', 'l', 'e', 'm', 'o', 'n']\n"
     ]
    }
   ],
   "source": [
    "fruits = ['apple', 'orange', 'lemon']\n",
    "sep_word = []\n",
    "\n",
    "for word in fruits:\n",
    "    for letter in word: \n",
    "        sep_word.append(letter)\n",
    "print(sep_word)\n"
   ]
  },
  {
   "cell_type": "code",
   "execution_count": 8,
   "metadata": {},
   "outputs": [
    {
     "name": "stdout",
     "output_type": "stream",
     "text": [
      "1.4142135623730951\n"
     ]
    }
   ],
   "source": [
    "import math\n",
    "n = 2\n",
    "if n < 0:\n",
    "    print(\"Sorry, value is negative\")\n",
    "else:   \n",
    "    print(math.sqrt(n))\n"
   ]
  },
  {
   "cell_type": "code",
   "execution_count": 15,
   "metadata": {},
   "outputs": [
    {
     "name": "stdout",
     "output_type": "stream",
     "text": [
      "A\n"
     ]
    }
   ],
   "source": [
    "score = 92\n",
    "if score >= 90:\n",
    "    print('A')\n",
    "else:\n",
    "    if score >= 80:\n",
    "        print('B')\n",
    "    else:\n",
    "        if score >= 70:\n",
    "            print('C')\n",
    "        else:\n",
    "            if score >= 60:\n",
    "                print('D')\n",
    "            else:\n",
    "                print('F')"
   ]
  },
  {
   "cell_type": "code",
   "execution_count": 14,
   "metadata": {},
   "outputs": [
    {
     "name": "stdout",
     "output_type": "stream",
     "text": [
      "C\n"
     ]
    }
   ],
   "source": [
    "score = 33\n",
    "\n",
    "if score > 90: \n",
    "    print(\"A+\")\n",
    "    \n",
    "elif score > 70:\n",
    "    print(\"A\")\n",
    "    \n",
    "elif score > 60:\n",
    "    print(\"A\")\n",
    "    \n",
    "elif score > 50:\n",
    "    print(\"A\")\n",
    "\n",
    "elif score > 40:\n",
    "    print(\"B\")\n",
    "\n",
    "elif score >= 33:\n",
    "    print(\"C\")\n",
    "\n",
    "else:\n",
    "    print(\"You failed!\")"
   ]
  },
  {
   "cell_type": "code",
   "execution_count": 19,
   "metadata": {},
   "outputs": [
    {
     "name": "stdout",
     "output_type": "stream",
     "text": [
      "1.4142135623730951\n"
     ]
    }
   ],
   "source": [
    "if n < 0:\n",
    "    n = abs(n)\n",
    "print(math.sqrt(n))\n"
   ]
  },
  {
   "cell_type": "markdown",
   "metadata": {},
   "source": [
    "##  list comprehension"
   ]
  },
  {
   "cell_type": "code",
   "execution_count": 21,
   "metadata": {},
   "outputs": [
    {
     "data": {
      "text/plain": [
       "[1, 4, 9, 16, 25, 36, 49, 64, 81, 100]"
      ]
     },
     "execution_count": 21,
     "metadata": {},
     "output_type": "execute_result"
    }
   ],
   "source": [
    "sq_list = []\n",
    "for x in range(1, 11):\n",
    "    sq_list.append(x * x)\n",
    "sq_list"
   ]
  },
  {
   "cell_type": "code",
   "execution_count": 22,
   "metadata": {},
   "outputs": [
    {
     "data": {
      "text/plain": [
       "[1, 4, 9, 16, 25, 36, 49, 64, 81, 100]"
      ]
     },
     "execution_count": 22,
     "metadata": {},
     "output_type": "execute_result"
    }
   ],
   "source": [
    "sq_listc = [x * x for x in range(1,11)]\n",
    "sq_listc"
   ]
  },
  {
   "cell_type": "code",
   "execution_count": 23,
   "metadata": {},
   "outputs": [
    {
     "data": {
      "text/plain": [
       "[1, 9, 25, 49, 81]"
      ]
     },
     "execution_count": 23,
     "metadata": {},
     "output_type": "execute_result"
    }
   ],
   "source": [
    "sq_listc2 = [x * x for x in range(1, 11) if x % 2 != 0]\n",
    "sq_listc2"
   ]
  },
  {
   "cell_type": "code",
   "execution_count": 24,
   "metadata": {},
   "outputs": [
    {
     "data": {
      "text/plain": [
       "['C', 'M', 'P', 'R', 'H', 'N', 'S', 'N']"
      ]
     },
     "execution_count": 24,
     "metadata": {},
     "output_type": "execute_result"
    }
   ],
   "source": [
    "string_c = [ch.upper() for ch in 'comprehension' if ch not in 'aeiou']\n",
    "string_c"
   ]
  },
  {
   "cell_type": "markdown",
   "metadata": {},
   "source": [
    "## excercise"
   ]
  },
  {
   "cell_type": "code",
   "execution_count": 27,
   "metadata": {},
   "outputs": [
    {
     "name": "stdout",
     "output_type": "stream",
     "text": [
      "['C', 'A', 'T', 'D', 'O', 'G', 'R', 'A', 'B', 'B', 'I', 'T']\n"
     ]
    }
   ],
   "source": [
    "word_list = ['cat','dog','rabbit']\n",
    "letter_list = [ ]\n",
    "for a_word in word_list:\n",
    "    for a_letter in a_word:\n",
    "        letter_list.append(a_letter.upper())\n",
    "print(letter_list)"
   ]
  },
  {
   "cell_type": "markdown",
   "metadata": {},
   "source": [
    "### 1. Modify the given code so that the final list only contains a single copy of each letter.\n",
    "# the answer is: ['c', 'a', 't', 'd', 'o', 'g', 'r', 'b', 'i']"
   ]
  },
  {
   "cell_type": "code",
   "execution_count": 1,
   "metadata": {},
   "outputs": [
    {
     "name": "stdout",
     "output_type": "stream",
     "text": [
      "['a', 'o', 'i', 'c', 't', 'r', 'g', 'd', 'b']\n"
     ]
    }
   ],
   "source": [
    "word_list = ['cat', 'dog', 'rabbit']\n",
    "letter_set = set()\n",
    "\n",
    "for a_word in word_list:\n",
    "    for a_letter in a_word:\n",
    "        letter_set.add(a_letter)\n",
    "\n",
    "# Convert the set back to a list to get the desired output\n",
    "letter_list = list(letter_set)\n",
    "print(letter_list)\n"
   ]
  },
  {
   "cell_type": "code",
   "execution_count": 8,
   "metadata": {},
   "outputs": [
    {
     "name": "stdout",
     "output_type": "stream",
     "text": [
      "the answer is:  ['b', 'r', 'd', 'o', 'c', 'i', 't', 'g', 'a']\n"
     ]
    }
   ],
   "source": [
    "word_list = ['cat','dog','rabbit']\n",
    "letter_list = []\n",
    "for a_word in word_list:\n",
    "    for a_letter in a_word:\n",
    "        letter_list.append(a_letter)\n",
    "\n",
    "print(\"the answer is: \", list(set(letter_list)))\n",
    "\n"
   ]
  },
  {
   "cell_type": "code",
   "execution_count": 10,
   "metadata": {},
   "outputs": [
    {
     "name": "stdout",
     "output_type": "stream",
     "text": [
      "the answer is:  ['b', 'r', 'd', 'o', 'c', 'i', 't', 'g', 'a']\n"
     ]
    }
   ],
   "source": [
    "word_list = ['cat','dog','rabbit']\n",
    "letter_set = set()\n",
    "for a_word in word_list:\n",
    "    for a_letter in a_word:\n",
    "        letter_set.add(a_letter)\n",
    "        \n",
    "letter_list = list(letter_set)\n",
    "\n",
    "print(\"the answer is: \", letter_list)\n"
   ]
  },
  {
   "cell_type": "code",
   "execution_count": 2,
   "metadata": {},
   "outputs": [
    {
     "name": "stdout",
     "output_type": "stream",
     "text": [
      "the answer is:  ['c', 'a', 't', 'd', 'o', 'g', 'r', 'b', 'i']\n"
     ]
    }
   ],
   "source": [
    "word_list = ['cat','dog','rabbit']\n",
    "letter_list = []\n",
    "for a_word in word_list:\n",
    "    for a_letter in a_word:\n",
    "        if a_letter not in letter_list:\n",
    "            \n",
    "            letter_list.append(a_letter)\n",
    "\n",
    "print(\"the answer is: \", letter_list)\n"
   ]
  },
  {
   "cell_type": "code",
   "execution_count": 5,
   "metadata": {},
   "outputs": [
    {
     "name": "stdout",
     "output_type": "stream",
     "text": [
      "['c', 'a', 't', 'd', 'o', 'g', 'r', 'a', 'b', 'b', 'i', 't']\n"
     ]
    }
   ],
   "source": [
    "word_list = ['cat','dog','rabbit']\n",
    "list_cwordlist = [ c for x in word_list for c in x]\n",
    "print(list_cwordlist)"
   ]
  },
  {
   "cell_type": "code",
   "execution_count": 11,
   "metadata": {},
   "outputs": [
    {
     "name": "stdout",
     "output_type": "stream",
     "text": [
      "['c', 'a', 't', 'd', 'o', 'g', 'r', 'b', 'i']\n"
     ]
    }
   ],
   "source": [
    "word_list = ['cat','dog','rabbit']\n",
    "letter_list = []\n",
    "list2_cwordlist = [letter_list.append(c) for x in word_list for c in x if c not in letter_list]\n",
    "print(letter_list)"
   ]
  },
  {
   "cell_type": "code",
   "execution_count": 14,
   "metadata": {},
   "outputs": [
    {
     "name": "stdout",
     "output_type": "stream",
     "text": [
      "{'a', 'o', 'i', 'c', 't', 'r', 'g', 'd', 'b'}\n"
     ]
    }
   ],
   "source": [
    "word_list = ['cat','dog','rabbit']\n",
    "letter_list = set()\n",
    "list2_cwordlist = [letter_list.add(c) for x in word_list for c in x if c not in letter_list]\n",
    "print(letter_list)\n"
   ]
  },
  {
   "cell_type": "code",
   "execution_count": 16,
   "metadata": {},
   "outputs": [
    {
     "name": "stdout",
     "output_type": "stream",
     "text": [
      "['a', 'o', 'i', 'c', 't', 'r', 'g', 'd', 'b']\n"
     ]
    }
   ],
   "source": [
    "word_list = ['cat', 'dog', 'rabbit']\n",
    "letter_list = set()\n",
    "[letter_list.add(c) for x in word_list for c in x]\n",
    "print(list(letter_list))"
   ]
  },
  {
   "cell_type": "markdown",
   "metadata": {},
   "source": []
  },
  {
   "cell_type": "markdown",
   "metadata": {},
   "source": []
  }
 ],
 "metadata": {
  "kernelspec": {
   "display_name": "Python 3",
   "language": "python",
   "name": "python3"
  },
  "language_info": {
   "codemirror_mode": {
    "name": "ipython",
    "version": 3
   },
   "file_extension": ".py",
   "mimetype": "text/x-python",
   "name": "python",
   "nbconvert_exporter": "python",
   "pygments_lexer": "ipython3",
   "version": "3.11.3"
  }
 },
 "nbformat": 4,
 "nbformat_minor": 2
}
